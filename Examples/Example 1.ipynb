{
 "cells": [
  {
   "cell_type": "markdown",
   "metadata": {},
   "source": [
    "# Example 1"
   ]
  },
  {
   "cell_type": "code",
   "execution_count": 1,
   "metadata": {},
   "outputs": [
    {
     "name": "stderr",
     "output_type": "stream",
     "text": [
      "Loading required package: randomForest\n",
      "randomForest 4.6-14\n",
      "Type rfNews() to see new features/changes/bug fixes.\n"
     ]
    }
   ],
   "source": [
    "# Let's load the package\n",
    "library('pratto')"
   ]
  },
  {
   "cell_type": "code",
   "execution_count": 2,
   "metadata": {},
   "outputs": [],
   "source": [
    "# Let's load the ML model\n",
    "data('all_all_KNN') # The name of the loaded model is knn"
   ]
  },
  {
   "cell_type": "code",
   "execution_count": 3,
   "metadata": {},
   "outputs": [],
   "source": [
    "# Let's load the testing set\n",
    "data(testset)"
   ]
  },
  {
   "cell_type": "code",
   "execution_count": 4,
   "metadata": {},
   "outputs": [
    {
     "name": "stdout",
     "output_type": "stream",
     "text": [
      "'data.frame':\t2034 obs. of  13 variables:\n",
      " $ cum_id : int  27 20 1 1 27 33 15 15 11 12 ...\n",
      " $ gal_id : int  81120 17141 9754 88707 80465 31606 5023 984 19082 86481 ...\n",
      " $ mas    : num  10.02 9.39 9.28 9.91 9.18 ...\n",
      " $ r      : num  0.419 1.776 2.403 0.532 0.323 ...\n",
      " $ v      : num  1.1 0.246 0.335 1.126 0.668 ...\n",
      " $ flag1  : Factor w/ 4 levels \"X1\",\"X2\",\"X3\",..: 2 2 3 1 1 2 3 3 3 4 ...\n",
      " $ flag2  : Factor w/ 2 levels \"X0\",\"X1\": 2 1 1 2 2 1 1 1 1 2 ...\n",
      " $ fl1    : Factor w/ 2 levels \"X0\",\"X1\": 1 1 1 2 2 1 1 1 1 1 ...\n",
      " $ fl2    : Factor w/ 2 levels \"X0\",\"X1\": 2 2 1 1 1 2 1 1 1 1 ...\n",
      " $ fl3    : Factor w/ 2 levels \"X0\",\"X1\": 1 1 2 1 1 1 2 2 2 1 ...\n",
      " $ fl4    : Factor w/ 2 levels \"X0\",\"X1\": 1 1 1 1 1 1 1 1 1 2 ...\n",
      " $ fl5    : Factor w/ 2 levels \"X0\",\"X1\": 2 2 2 1 1 2 2 2 2 1 ...\n",
      " $ flag1_t: Factor w/ 5 levels \"NN\",\"X1\",\"X2\",..: 5 3 4 5 2 2 4 3 2 1 ...\n"
     ]
    }
   ],
   "source": [
    "# Let's see the structure of this data frame\n",
    "str(testset)"
   ]
  },
  {
   "cell_type": "code",
   "execution_count": 29,
   "metadata": {},
   "outputs": [],
   "source": [
    "# Let's keep only with the 'r' and 'v' columns that will be used to predict, and\n",
    "# save the real classification for future comparison.\n",
    "\n",
    "cat        <- testset[, c(4,5)]\n",
    "real_class <- testset$flag1"
   ]
  },
  {
   "cell_type": "code",
   "execution_count": 30,
   "metadata": {},
   "outputs": [],
   "source": [
    "# Let's predict the proabability of being of each class using our ML\n",
    "pred_prob <- get_class(cat, knn)"
   ]
  },
  {
   "cell_type": "code",
   "execution_count": 31,
   "metadata": {},
   "outputs": [],
   "source": [
    "# Let's join all the information and separate the different classes with\n",
    "#  a treshold of 0.5 in the probability\n",
    "\n",
    "cat <- data.frame(cat, real_class, pred_prob)\n",
    "pred_class <- vector()\n",
    "pred_class[which(cat$X1 > 0.5)] = 'X1'\n",
    "pred_class[which(cat$X2 > 0.5)] = 'X2'\n",
    "pred_class[which(cat$X3 > 0.5)] = 'X3'\n",
    "pred_class[which(cat$X4 > 0.5)] = 'X4'\n",
    "cat <- data.frame(cat, pred_class)"
   ]
  },
  {
   "cell_type": "code",
   "execution_count": 32,
   "metadata": {},
   "outputs": [
    {
     "name": "stdout",
     "output_type": "stream",
     "text": [
      "'data.frame':\t2034 obs. of  8 variables:\n",
      " $ r         : num  0.419 1.776 2.403 0.532 0.323 ...\n",
      " $ v         : num  1.1 0.246 0.335 1.126 0.668 ...\n",
      " $ real_class: Factor w/ 4 levels \"X1\",\"X2\",\"X3\",..: 2 2 3 1 1 2 3 3 3 4 ...\n",
      " $ X1        : num  0.365 0 0 0.286 0.46 ...\n",
      " $ X2        : num  0 0.4127 0.0159 0.0476 0.127 ...\n",
      " $ X3        : num  0.0952 0.5873 0.9841 0.1746 0.1111 ...\n",
      " $ X4        : num  0.54 0 0 0.492 0.302 ...\n",
      " $ pred_class: Factor w/ 4 levels \"X1\",\"X2\",\"X3\",..: 4 3 3 NA NA 1 3 3 NA NA ...\n"
     ]
    }
   ],
   "source": [
    "str(cat)"
   ]
  },
  {
   "cell_type": "code",
   "execution_count": 38,
   "metadata": {},
   "outputs": [
    {
     "data": {
      "text/plain": [
       "Confusion Matrix and Statistics\n",
       "\n",
       "          Reference\n",
       "Prediction  X1  X2  X3  X4\n",
       "        X1  54   2   2  38\n",
       "        X2   9 220 134   5\n",
       "        X3   4 125 682  18\n",
       "        X4  26   2   5  69\n",
       "\n",
       "Overall Statistics\n",
       "                                          \n",
       "               Accuracy : 0.7348          \n",
       "                 95% CI : (0.7108, 0.7578)\n",
       "    No Information Rate : 0.59            \n",
       "    P-Value [Acc > NIR] : < 2e-16         \n",
       "                                          \n",
       "                  Kappa : 0.5363          \n",
       "                                          \n",
       " Mcnemar's Test P-Value : 0.01215         \n",
       "\n",
       "Statistics by Class:\n",
       "\n",
       "                     Class: X1 Class: X2 Class: X3 Class: X4\n",
       "Sensitivity            0.58065    0.6304    0.8287   0.53077\n",
       "Specificity            0.96774    0.8585    0.7430   0.97391\n",
       "Pos Pred Value         0.56250    0.5978    0.8227   0.67647\n",
       "Neg Pred Value         0.96998    0.8744    0.7509   0.95282\n",
       "Prevalence             0.06667    0.2502    0.5900   0.09319\n",
       "Detection Rate         0.03871    0.1577    0.4889   0.04946\n",
       "Detection Prevalence   0.06882    0.2638    0.5943   0.07312\n",
       "Balanced Accuracy      0.77419    0.7444    0.7858   0.75234"
      ]
     },
     "metadata": {},
     "output_type": "display_data"
    }
   ],
   "source": [
    "# Let's see the confusion matrix\n",
    "confusionMatrix(cat$real_class, cat$pred_class)"
   ]
  }
 ],
 "metadata": {
  "kernelspec": {
   "display_name": "R",
   "language": "R",
   "name": "ir"
  },
  "language_info": {
   "codemirror_mode": "r",
   "file_extension": ".r",
   "mimetype": "text/x-r-source",
   "name": "R",
   "pygments_lexer": "r",
   "version": "3.6.2"
  }
 },
 "nbformat": 4,
 "nbformat_minor": 2
}
